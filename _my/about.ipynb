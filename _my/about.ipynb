{
 "cells": [
  {
   "cell_type": "code",
   "execution_count": 7,
   "metadata": {},
   "outputs": [],
   "source": [
    "import sqlalchemy as alch\n",
    "import psycopg2 as pg2"
   ]
  },
  {
   "cell_type": "markdown",
   "metadata": {},
   "source": [
    "Кто используются в этом проекте\n",
    "### pydantic\n",
    "Устраивает более строгую типизацию. Применяется в простейшем виде так:\n",
    "``` python\n",
    "from pydantic import BaseModel      # импортируем pydantic-овский класс BaseModel\n",
    "class Fridge(BaseModel):            # создаем свой класс, не на ровном месте, а наследуясь от BaseModel\n",
    "    items: List[str]                # здесь будет список (тоже не совсем настоящий, но это не важно) строго из строк. Если поступит например инт, будет преобразован в строку\n",
    "```\n",
    "\n",
    "### pydantic_settings\n",
    "A set of tools helping to manage and work with application settings\n",
    "* пока все, что я могу про это сказать. Суть - аналогична"
   ]
  }
 ],
 "metadata": {
  "kernelspec": {
   "display_name": "Python 3",
   "language": "python",
   "name": "python3"
  },
  "language_info": {
   "codemirror_mode": {
    "name": "ipython",
    "version": 3
   },
   "file_extension": ".py",
   "mimetype": "text/x-python",
   "name": "python",
   "nbconvert_exporter": "python",
   "pygments_lexer": "ipython3",
   "version": "3.11.1"
  }
 },
 "nbformat": 4,
 "nbformat_minor": 2
}
